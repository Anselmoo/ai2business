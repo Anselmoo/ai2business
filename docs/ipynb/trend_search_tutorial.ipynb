{
 "cells": [
  {
   "cell_type": "markdown",
   "metadata": {
    "colab_type": "text"
   },
   "source": [
    "## Building a search trend dataframe\n",
    "\n",
    "Trend search can be differs roughly in two major criteria:\n",
    "\n",
    "1. A *active* driven search by using `keyword` like \"Corona\", \"S&P 500\", \"Hope\"\n",
    "2. A *passive* driven search by using the community feedback to gather actual topics.\n",
    "\n",
    "In this context, the `trend-search`-module is a designed in a builder model to add much searches as required in a collection `{}`.\n"
   ]
  },
  {
   "cell_type": "code",
   "execution_count": 0,
   "metadata": {
    "colab_type": "code"
   },
   "outputs": [],
   "source": [
    "!pip install git+https://github.com/AI2Business/ai2business.git\n"
   ]
  },
  {
   "cell_type": "markdown",
   "metadata": {
    "colab_type": "text"
   },
   "source": [
    "### Loading the model `trends_collector`\n"
   ]
  },
  {
   "cell_type": "code",
   "execution_count": 0,
   "metadata": {
    "colab_type": "code"
   },
   "outputs": [],
   "source": [
    "from ai2business.kpi_collector import trends_collector\n"
   ]
  },
  {
   "cell_type": "markdown",
   "metadata": {
    "colab_type": "text"
   },
   "source": [
    "Setup the search with the keyword list and write it into the `builder`\n"
   ]
  },
  {
   "cell_type": "code",
   "execution_count": 0,
   "metadata": {
    "colab_type": "code"
   },
   "outputs": [],
   "source": [
    "keyword_list: list = [\"Corona\", \"S&P 500\", \"Hope\"]\n",
    "trends = trends_collector.TrendsCollector()\n",
    "builder = trends_collector.DesignerTrendsCollector(keyword_list=keyword_list)\n",
    "trends.builder = builder\n"
   ]
  },
  {
   "cell_type": "markdown",
   "metadata": {
    "colab_type": "text"
   },
   "source": [
    "### Add the `trend-search` functions, in this particular case:\n",
    "\n",
    "1. Searching over time\n",
    "2. Searching in a special area\n",
    "3. Searching for related queries\n",
    "4. Searching for realted topics\n",
    "\n",
    "All the information will be generated and stored in the `builder`.\n"
   ]
  },
  {
   "cell_type": "code",
   "execution_count": 0,
   "metadata": {
    "colab_type": "code"
   },
   "outputs": [],
   "source": [
    "trends.find_interest_over_time()\n",
    "trends.find_interest_by_region()\n",
    "trends.find_related_topics()\n",
    "trends.find_related_queries()\n"
   ]
  },
  {
   "cell_type": "markdown",
   "metadata": {
    "colab_type": "text"
   },
   "source": [
    "With the use of the builder's property-attribute, a dictionary will be returned consisting of pandas-data frames and dictionaries. The key-names are the function names.\n",
    "\n",
    "```python\n",
    ">>> results = builder.trends.return_product\n",
    ">>> result.keys()\n",
    "dict_keys(['interest_over_time', 'interest_by_region', 'related_topics', 'related_queries'])\n",
    "\n",
    "```\n",
    "\n",
    "Note\n",
    "----\n",
    "\n",
    "It is important to immediately transfer the return value to a variable because a second return will return an empty dictionary.\n",
    "\n",
    "\n",
    "### Return the objects of the `builder` in the dictionary\n"
   ]
  },
  {
   "cell_type": "code",
   "execution_count": 0,
   "metadata": {
    "colab_type": "code"
   },
   "outputs": [],
   "source": [
    "results = builder.trends.return_product\n",
    "\n",
    "print(results.keys())\n",
    "\n",
    "print(results)\n"
   ]
  },
  {
   "cell_type": "markdown",
   "metadata": {
    "colab_type": "text"
   },
   "source": [
    "Due to the fact that the dataframes are pandas-dataframes, all pandas commands can be easily applied, like plot, for example.\n"
   ]
  },
  {
   "cell_type": "code",
   "execution_count": 0,
   "metadata": {
    "colab_type": "code"
   },
   "outputs": [],
   "source": [
    "results[\"interest_over_time\"].plot(title=\"Search Trend of the Big Three (per time)\")\n",
    "\n",
    "results[\"interest_by_region\"].plot.bar(\n",
    "    title=\"Search Trend of the Big Three (per location)\", figsize=(28, 12)\n",
    ")\n"
   ]
  },
  {
   "cell_type": "markdown",
   "metadata": {
    "colab_type": "text"
   },
   "source": [
    "Also, the stored data in a dictionary are saved as pandas dataframe so that the trend results can be then easily analyzed again the default commands of pandas.\n"
   ]
  },
  {
   "cell_type": "code",
   "execution_count": 0,
   "metadata": {
    "colab_type": "code"
   },
   "outputs": [],
   "source": [
    "for key in keyword_list:\n",
    "    results[\"related_queries\"][key][\"top\"].plot.bar(\n",
    "        x=\"query\", title=f\"Related Queries for {key}\"\n",
    "    )\n"
   ]
  },
  {
   "cell_type": "markdown",
   "metadata": {
    "colab_type": "text"
   },
   "source": [
    "Finally, also non-visual commands like correlation analysis are working fine.\n"
   ]
  },
  {
   "cell_type": "code",
   "execution_count": 0,
   "metadata": {
    "colab_type": "code"
   },
   "outputs": [],
   "source": [
    "results[\"interest_by_region\"].corr(\"pearson\")\n",
    "\n",
    "results[\"interest_by_region\"].corr(\"kendall\")\n",
    "\n",
    "results[\"interest_by_region\"].corr(\"spearman\")\n"
   ]
  }
 ],
 "metadata": {
  "colab": {
   "collapsed_sections": [],
   "name": "trend_search_tutorial",
   "private_outputs": false,
   "provenance": [],
   "toc_visible": true
  },
  "kernelspec": {
   "display_name": "Python 3",
   "language": "python",
   "name": "python3"
  },
  "language_info": {
   "codemirror_mode": {
    "name": "ipython",
    "version": 3
   },
   "file_extension": ".py",
   "mimetype": "text/x-python",
   "name": "python",
   "nbconvert_exporter": "python",
   "pygments_lexer": "ipython3",
   "version": "3.7.0"
  }
 },
 "nbformat": 4,
 "nbformat_minor": 0
}